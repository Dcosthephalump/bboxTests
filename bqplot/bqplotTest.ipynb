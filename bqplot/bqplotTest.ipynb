{
 "cells": [
  {
   "cell_type": "markdown",
   "id": "04af9eac-640a-42d1-9395-067f31353a34",
   "metadata": {},
   "source": [
    "This uses example [code from the documentation](https://bqplot.github.io/bqplot/usage/marks/gridheatmap/) and modifies it. The random array is set to a size the same as an image. This code does not run at all quickly and could crash your setup if you are not careful.\n",
    "\n",
    "***DO NOT RUN THIS CODE***"
   ]
  },
  {
   "cell_type": "code",
   "execution_count": null,
   "id": "b7a3a2d4-38dc-4b6d-9abd-9e0de9ecd50e",
   "metadata": {},
   "outputs": [],
   "source": [
    "import bqplot.pyplot as plt\n",
    "import numpy as np\n",
    "\n",
    "# Reasonable image dimensions based off of manuscript image data\n",
    "data = np.random.randn(1995, 1577)\n",
    "\n",
    "fig = plt.figure(title=\"Grid Heat Map\", padding_y=0)\n",
    "grid_map = plt.gridheatmap(color=data)\n",
    "fig\n"
   ]
  }
 ],
 "metadata": {
  "kernelspec": {
   "display_name": "",
   "name": ""
  },
  "language_info": {
   "name": ""
  }
 },
 "nbformat": 4,
 "nbformat_minor": 5
}
