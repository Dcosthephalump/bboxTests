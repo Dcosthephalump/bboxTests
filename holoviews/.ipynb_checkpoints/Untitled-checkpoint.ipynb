{
 "cells": [
  {
   "cell_type": "code",
   "execution_count": 1,
   "id": "b457e54a-0822-4dcf-9673-17b76f5a9756",
   "metadata": {
    "tags": []
   },
   "outputs": [],
   "source": [
    "#| default_exp boxEdit"
   ]
  },
  {
   "cell_type": "code",
   "execution_count": 1,
   "id": "8ebd19be-58c7-407e-b6a2-20248a154f70",
   "metadata": {
    "tags": []
   },
   "outputs": [],
   "source": [
    "#| hide\n",
    "from nbdev.export import nb_export\n",
    "nb_export('Untitled.ipynb','debug')"
   ]
  },
  {
   "cell_type": "code",
   "execution_count": 1,
   "id": "9a17a73f-e8c6-442a-85cf-e31b8687822d",
   "metadata": {
    "tags": []
   },
   "outputs": [
    {
     "name": "stderr",
     "output_type": "stream",
     "text": [
      "WARNING:param.notebook_extension: Holoviews bokeh extension could not be imported, it raised the following exception: ValueError('ClassSelector parameter None value must be an instance of (function, tuple), not <function size at 0x7f4f88734470>.')\n"
     ]
    },
    {
     "ename": "ImportError",
     "evalue": "None of the backends could be imported",
     "output_type": "error",
     "traceback": [
      "\u001b[0;31m---------------------------------------------------------------------------\u001b[0m",
      "\u001b[0;31mImportError\u001b[0m                               Traceback (most recent call last)",
      "Cell \u001b[0;32mIn[1], line 6\u001b[0m\n\u001b[1;32m      3\u001b[0m \u001b[38;5;28;01mfrom\u001b[39;00m \u001b[38;5;21;01mholoviews\u001b[39;00m \u001b[38;5;28;01mimport\u001b[39;00m opts\n\u001b[1;32m      4\u001b[0m \u001b[38;5;28;01mfrom\u001b[39;00m \u001b[38;5;21;01mholoviews\u001b[39;00m \u001b[38;5;28;01mimport\u001b[39;00m streams\n\u001b[0;32m----> 6\u001b[0m \u001b[43mhv\u001b[49m\u001b[38;5;241;43m.\u001b[39;49m\u001b[43mextension\u001b[49m\u001b[43m(\u001b[49m\u001b[38;5;124;43m'\u001b[39;49m\u001b[38;5;124;43mbokeh\u001b[39;49m\u001b[38;5;124;43m'\u001b[39;49m\u001b[43m)\u001b[49m\n",
      "File \u001b[0;32m~/anaconda3/envs/boxStream/lib/python3.11/site-packages/pyviz_comms/__init__.py:64\u001b[0m, in \u001b[0;36mextension.__new__\u001b[0;34m(cls, *args, **kwargs)\u001b[0m\n\u001b[1;32m     62\u001b[0m \u001b[38;5;28;01mexcept\u001b[39;00m \u001b[38;5;167;01mException\u001b[39;00m:\n\u001b[1;32m     63\u001b[0m     \u001b[38;5;28;01mpass\u001b[39;00m\n\u001b[0;32m---> 64\u001b[0m \u001b[38;5;28;01mreturn\u001b[39;00m \u001b[43mparam\u001b[49m\u001b[38;5;241;43m.\u001b[39;49m\u001b[43mParameterizedFunction\u001b[49m\u001b[38;5;241;43m.\u001b[39;49m\u001b[38;5;21;43m__new__\u001b[39;49m\u001b[43m(\u001b[49m\u001b[38;5;28;43mcls\u001b[39;49m\u001b[43m,\u001b[49m\u001b[43m \u001b[49m\u001b[38;5;241;43m*\u001b[39;49m\u001b[43margs\u001b[49m\u001b[43m,\u001b[49m\u001b[43m \u001b[49m\u001b[38;5;241;43m*\u001b[39;49m\u001b[38;5;241;43m*\u001b[39;49m\u001b[43mkwargs\u001b[49m\u001b[43m)\u001b[49m\n",
      "File \u001b[0;32m~/anaconda3/envs/boxStream/lib/python3.11/site-packages/param/parameterized.py:3658\u001b[0m, in \u001b[0;36mParameterizedFunction.__new__\u001b[0;34m(class_, *args, **params)\u001b[0m\n\u001b[1;32m   3656\u001b[0m inst \u001b[38;5;241m=\u001b[39m class_\u001b[38;5;241m.\u001b[39minstance()\n\u001b[1;32m   3657\u001b[0m inst\u001b[38;5;241m.\u001b[39mparam\u001b[38;5;241m.\u001b[39m_set_name(class_\u001b[38;5;241m.\u001b[39m\u001b[38;5;18m__name__\u001b[39m)\n\u001b[0;32m-> 3658\u001b[0m \u001b[38;5;28;01mreturn\u001b[39;00m \u001b[43minst\u001b[49m\u001b[38;5;241;43m.\u001b[39;49m\u001b[38;5;21;43m__call__\u001b[39;49m\u001b[43m(\u001b[49m\u001b[38;5;241;43m*\u001b[39;49m\u001b[43margs\u001b[49m\u001b[43m,\u001b[49m\u001b[38;5;241;43m*\u001b[39;49m\u001b[38;5;241;43m*\u001b[39;49m\u001b[43mparams\u001b[49m\u001b[43m)\u001b[49m\n",
      "File \u001b[0;32m~/anaconda3/envs/boxStream/lib/python3.11/site-packages/holoviews/ipython/__init__.py:115\u001b[0m, in \u001b[0;36mnotebook_extension.__call__\u001b[0;34m(self, *args, **params)\u001b[0m\n\u001b[1;32m    113\u001b[0m \u001b[38;5;28;01mdef\u001b[39;00m \u001b[38;5;21m__call__\u001b[39m(\u001b[38;5;28mself\u001b[39m, \u001b[38;5;241m*\u001b[39margs, \u001b[38;5;241m*\u001b[39m\u001b[38;5;241m*\u001b[39mparams):\n\u001b[1;32m    114\u001b[0m     comms \u001b[38;5;241m=\u001b[39m params\u001b[38;5;241m.\u001b[39mpop(\u001b[38;5;124m'\u001b[39m\u001b[38;5;124mcomms\u001b[39m\u001b[38;5;124m'\u001b[39m, \u001b[38;5;28;01mNone\u001b[39;00m)\n\u001b[0;32m--> 115\u001b[0m     \u001b[38;5;28;43msuper\u001b[39;49m\u001b[43m(\u001b[49m\u001b[43m)\u001b[49m\u001b[38;5;241;43m.\u001b[39;49m\u001b[38;5;21;43m__call__\u001b[39;49m\u001b[43m(\u001b[49m\u001b[38;5;241;43m*\u001b[39;49m\u001b[43margs\u001b[49m\u001b[43m,\u001b[49m\u001b[43m \u001b[49m\u001b[38;5;241;43m*\u001b[39;49m\u001b[38;5;241;43m*\u001b[39;49m\u001b[43mparams\u001b[49m\u001b[43m)\u001b[49m\n\u001b[1;32m    116\u001b[0m     \u001b[38;5;66;03m# Abort if IPython not found\u001b[39;00m\n\u001b[1;32m    117\u001b[0m     \u001b[38;5;28;01mtry\u001b[39;00m:\n",
      "File \u001b[0;32m~/anaconda3/envs/boxStream/lib/python3.11/site-packages/holoviews/util/__init__.py:716\u001b[0m, in \u001b[0;36mextension.__call__\u001b[0;34m(self, *args, **params)\u001b[0m\n\u001b[1;32m    711\u001b[0m             \u001b[38;5;28mself\u001b[39m\u001b[38;5;241m.\u001b[39mparam\u001b[38;5;241m.\u001b[39mwarning(\u001b[38;5;124m'\u001b[39m\u001b[38;5;132;01m%s\u001b[39;00m\u001b[38;5;124m backend hook \u001b[39m\u001b[38;5;132;01m%s\u001b[39;00m\u001b[38;5;124m failed with \u001b[39m\u001b[38;5;124m'\u001b[39m\n\u001b[1;32m    712\u001b[0m                                \u001b[38;5;124m'\u001b[39m\u001b[38;5;124mfollowing exception: \u001b[39m\u001b[38;5;132;01m%s\u001b[39;00m\u001b[38;5;124m'\u001b[39m \u001b[38;5;241m%\u001b[39m\n\u001b[1;32m    713\u001b[0m                                (backend, hook, e))\n\u001b[1;32m    715\u001b[0m \u001b[38;5;28;01mif\u001b[39;00m selected_backend \u001b[38;5;129;01mis\u001b[39;00m \u001b[38;5;28;01mNone\u001b[39;00m:\n\u001b[0;32m--> 716\u001b[0m     \u001b[38;5;28;01mraise\u001b[39;00m \u001b[38;5;167;01mImportError\u001b[39;00m(\u001b[38;5;124m'\u001b[39m\u001b[38;5;124mNone of the backends could be imported\u001b[39m\u001b[38;5;124m'\u001b[39m)\n\u001b[1;32m    717\u001b[0m Store\u001b[38;5;241m.\u001b[39mset_current_backend(selected_backend)\n",
      "\u001b[0;31mImportError\u001b[0m: None of the backends could be imported"
     ]
    }
   ],
   "source": [
    "#| export\n",
    "import holoviews as hv\n",
    "from holoviews import opts\n",
    "from holoviews import streams\n",
    "\n",
    "hv.extension('bokeh')"
   ]
  },
  {
   "cell_type": "code",
   "execution_count": null,
   "id": "9977779e-c613-4702-8526-82af737796b8",
   "metadata": {
    "tags": []
   },
   "outputs": [],
   "source": [
    "boxes = hv.Rectangles([(0, 0, 1, 1), (2, 1, 3.5, 2.5), (0.5, 1.5, 1.5, 2.5)])\n",
    "box_stream = streams.BoxEdit(source=boxes, num_objects=3, styles={'fill_color': ['red', 'green', 'blue']})\n",
    "boxes.opts(\n",
    "    opts.Rectangles(active_tools=['box_edit'], fill_alpha=0.5, height=400, width=400))"
   ]
  },
  {
   "cell_type": "code",
   "execution_count": null,
   "id": "848f3878-2708-431d-baaf-ca4ae2d0b237",
   "metadata": {},
   "outputs": [],
   "source": []
  },
  {
   "cell_type": "code",
   "execution_count": 2,
   "id": "f421d5d5-8b96-4c83-9c49-4ddbf6fd7d13",
   "metadata": {
    "tags": []
   },
   "outputs": [],
   "source": [
    "from bokeh.models import BoxEditTool, ColumnDataSource\n",
    "from bokeh.plotting import figure, show\n",
    "from bokeh.resources import CDN\n",
    "from bokeh.embed import file_html\n",
    "\n",
    "x = [5, 2, 8]\n",
    "y = [5, 7, 8]\n",
    "width = [2, 1, 2]\n",
    "height = [2, 1, 1.5]\n",
    "alpha = [0.5, 0.5, 0.5]\n",
    "\n",
    "src = ColumnDataSource(data = dict(x=x,y=y,width=width,height=height,alpha=alpha))\n",
    "\n",
    "p = figure(x_range=(0, 10), y_range=(0, 10), width=400, height=400,\n",
    "           title='Box Edit Tool')\n",
    "\n",
    "r = p.rect('x', 'y', 'width', 'height', source=src, alpha='alpha')\n",
    "\n",
    "draw_tool = BoxEditTool(renderers=[r], empty_value=1)\n",
    "p.add_tools(draw_tool)\n",
    "p.toolbar.active_drag = draw_tool\n",
    "\n",
    "show(p)"
   ]
  },
  {
   "cell_type": "code",
   "execution_count": 10,
   "id": "97084555-7562-4e70-945f-34e390ddce3b",
   "metadata": {},
   "outputs": [
    {
     "data": {
      "text/plain": [
       "{'x': [5, 2, 8],\n",
       " 'y': [5, 7, 8],\n",
       " 'width': [2, 1, 2],\n",
       " 'height': [2, 1, 1.5],\n",
       " 'alpha': [0.5, 0.5, 0.5]}"
      ]
     },
     "execution_count": 10,
     "metadata": {},
     "output_type": "execute_result"
    }
   ],
   "source": [
    "src.data"
   ]
  },
  {
   "cell_type": "code",
   "execution_count": 11,
   "id": "bda464f1-4d68-4dc3-9919-f5c2e754bd0e",
   "metadata": {
    "tags": []
   },
   "outputs": [],
   "source": [
    "from bokeh.layouts import column\n",
    "from bokeh.models import ColumnDataSource, CustomJS, Slider\n",
    "from bokeh.plotting import figure, show\n",
    "\n",
    "x = [x*0.005 for x in range(0, 200)]\n",
    "y = x\n",
    "\n",
    "source = ColumnDataSource(data=dict(x=x, y=y))\n",
    "\n",
    "plot = figure(width=400, height=400, x_range=(0, 1), y_range=(0, 1))\n",
    "\n",
    "plot.line('x', 'y', source=source, line_width=3, line_alpha=0.6)\n",
    "\n",
    "callback = CustomJS(args=dict(source=source), code=\"\"\"\n",
    "    const f = cb_obj.value\n",
    "    const x = source.data.x\n",
    "    const y = Array.from(x, (x) => Math.pow(x, f))\n",
    "    source.data = { x, y }\n",
    "\"\"\")\n",
    "\n",
    "slider = Slider(start=0.1, end=4, value=1, step=.1, title=\"power\")\n",
    "slider.js_on_change('value', callback)\n",
    "\n",
    "layout = column(slider, plot)\n",
    "\n",
    "show(layout)"
   ]
  },
  {
   "cell_type": "code",
   "execution_count": null,
   "id": "cc14d8ba-b017-4636-8d72-dcdee971e58f",
   "metadata": {},
   "outputs": [],
   "source": []
  }
 ],
 "metadata": {
  "kernelspec": {
   "display_name": "Python 3 (ipykernel)",
   "language": "python",
   "name": "python3"
  },
  "language_info": {
   "codemirror_mode": {
    "name": "ipython",
    "version": 3
   },
   "file_extension": ".py",
   "mimetype": "text/x-python",
   "name": "python",
   "nbconvert_exporter": "python",
   "pygments_lexer": "ipython3",
   "version": "3.11.4"
  }
 },
 "nbformat": 4,
 "nbformat_minor": 5
}
